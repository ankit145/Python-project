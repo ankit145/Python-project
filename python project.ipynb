{
 "cells": [
  {
   "cell_type": "code",
   "execution_count": null,
   "metadata": {},
   "outputs": [
    {
     "name": "stdout",
     "output_type": "stream",
     "text": [
      " My first python program!\n",
      " Simple Calculator in python by Ankit Sindhu\n",
      " Enter 'a' for addition\n",
      " Enter 's' for substraction\n",
      " Enter 'm' for multiplication\n",
      " Enter 'v' for average\n",
      " Enter 'q' for quit\n"
     ]
    }
   ],
   "source": [
    "def addition ():\n",
    "    print(\"Addition\")\n",
    "    n = float(input(\"Enter the number: \"))\n",
    "    t = 0 #Total number enter\n",
    "    ans = 0\n",
    "    while n != 0:\n",
    "        ans = ans + n\n",
    "        t+=1\n",
    "        n = float(input(\"Enter another number (0 to calculate): \"))\n",
    "    return [ans,t]\n",
    "def subtraction ():\n",
    "    print(\"Subtraction\");\n",
    "    n = float(input(\"Enter the number: \"))\n",
    "    t = 0 #Total number enter\n",
    "    sum = 0\n",
    "    while n != 0:\n",
    "        ans = ans - n\n",
    "        t+=1\n",
    "        n = float(input(\"Enter another number (0 to calculate): \"))\n",
    "    return [ans,t]\n",
    "def multiplication ():\n",
    "    print(\"Multiplication\")\n",
    "    n = float(input(\"Enter the number: \"))\n",
    "    t = 0 #Total number enter\n",
    "    ans = 1\n",
    "    while n != 0:\n",
    "        ans = ans * n\n",
    "        t+=1\n",
    "        n = float(input(\"Enter another number (0 to calculate): \"))\n",
    "    return [ans,t]\n",
    "def average():\n",
    "    an = []\n",
    "    an = addition()\n",
    "    t = an[1]\n",
    "    a = an[0]\n",
    "    ans = a / t\n",
    "    return [ans,t]\n",
    "#// main...\n",
    "while True:\n",
    "    list = []\n",
    "    print(\" My first python program!\")\n",
    "    print(\" Simple Calculator in python by Ankit Sindhu\")\n",
    "    print(\" Enter 'a' for addition\")\n",
    "    print(\" Enter 's' for substraction\")\n",
    "    print(\" Enter 'm' for multiplication\")\n",
    "    print(\" Enter 'v' for average\")\n",
    "    print(\" Enter 'q' for quit\")\n",
    "    c = input(\" \")\n",
    "    if c != 'q':\n",
    "        if c == 'a':\n",
    "            list = addition()\n",
    "            print(\"Ans = \", list[0], \" total inputs \",list[1])\n",
    "        elif c == 's':\n",
    "            list = subtraction()\n",
    "            print(\"Ans = \", list[0], \" total inputs \",list[1])\n",
    "        elif c == 'm':\n",
    "            list = multiplication()\n",
    "            print(\"Ans = \", list[0], \" total inputs \",list[1])\n",
    "        elif c == 'v':\n",
    "            list = average()\n",
    "            print(\"Ans = \", list[0], \" total inputs \",list[1])\n",
    "        else:\n",
    "            print (\"Sorry, invilid character\")\n",
    "    else:\n",
    "        break"
   ]
  },
  {
   "cell_type": "code",
   "execution_count": null,
   "metadata": {},
   "outputs": [],
   "source": []
  }
 ],
 "metadata": {
  "kernelspec": {
   "display_name": "Python 3",
   "language": "python",
   "name": "python3"
  },
  "language_info": {
   "codemirror_mode": {
    "name": "ipython",
    "version": 3
   },
   "file_extension": ".py",
   "mimetype": "text/x-python",
   "name": "python",
   "nbconvert_exporter": "python",
   "pygments_lexer": "ipython3",
   "version": "3.8.5"
  }
 },
 "nbformat": 4,
 "nbformat_minor": 4
}
